{
 "cells": [
  {
   "cell_type": "markdown",
   "metadata": {},
   "source": [
    "# Face detection and recognition inference pipeline\n",
    "\n",
    "The following example illustrates how to use the `facenet_pytorch` python package to perform face detection and recogition on an image dataset using an Inception Resnet V1 pretrained on the VGGFace2 dataset.\n",
    "\n",
    "The following Pytorch methods are included:\n",
    "* Datasets\n",
    "* Dataloaders\n",
    "* GPU/CPU processing"
   ]
  },
  {
   "cell_type": "code",
   "execution_count": 2,
   "metadata": {},
   "outputs": [],
   "source": [
    "from facenet_pytorch import MTCNN, InceptionResnetV1\n",
    "import torch\n",
    "from torch.utils.data import DataLoader\n",
    "from torchvision import datasets\n",
    "import numpy as np\n",
    "import pandas as pd\n",
    "import os\n",
    "\n",
    "workers = 0 if os.name == 'nt' else 4"
   ]
  },
  {
   "cell_type": "markdown",
   "metadata": {},
   "source": [
    "#### Determine if an nvidia GPU is available"
   ]
  },
  {
   "cell_type": "code",
   "execution_count": 3,
   "metadata": {},
   "outputs": [
    {
     "name": "stdout",
     "output_type": "stream",
     "text": [
      "Running on device: cuda:0\n"
     ]
    }
   ],
   "source": [
    "device = torch.device('cuda:0' if torch.cuda.is_available() else 'cpu')\n",
    "print('Running on device: {}'.format(device))"
   ]
  },
  {
   "cell_type": "markdown",
   "metadata": {},
   "source": [
    "#### Define MTCNN module\n",
    "\n",
    "Default params shown for illustration, but not needed. Note that, since MTCNN is a collection of neural nets and other code, the device must be passed in the following way to enable copying of objects when needed internally.\n",
    "\n",
    "See `help(MTCNN)` for more details."
   ]
  },
  {
   "cell_type": "code",
   "execution_count": 4,
   "metadata": {},
   "outputs": [],
   "source": [
    "mtcnn = MTCNN(\n",
    "    image_size=160, margin=0, min_face_size=20,\n",
    "    thresholds=[0.6, 0.7, 0.7], factor=0.709, post_process=True,\n",
    "    device=device\n",
    ")"
   ]
  },
  {
   "cell_type": "markdown",
   "metadata": {},
   "source": [
    "#### Define Inception Resnet V1 module\n",
    "\n",
    "Set classify=True for pretrained classifier. For this example, we will use the model to output embeddings/CNN features. Note that for inference, it is important to set the model to `eval` mode.\n",
    "\n",
    "See `help(InceptionResnetV1)` for more details."
   ]
  },
  {
   "cell_type": "code",
   "execution_count": 5,
   "metadata": {},
   "outputs": [],
   "source": [
    "resnet = InceptionResnetV1(pretrained='vggface2').eval().to(device)"
   ]
  },
  {
   "cell_type": "markdown",
   "metadata": {},
   "source": [
    "#### Define a dataset and data loader\n",
    "\n",
    "We add the `idx_to_class` attribute to the dataset to enable easy recoding of label indices to identity names later one."
   ]
  },
  {
   "cell_type": "code",
   "execution_count": 6,
   "metadata": {},
   "outputs": [],
   "source": [
    "def collate_fn(x):\n",
    "    return x[0]\n",
    "\n",
    "dataset = datasets.ImageFolder('../data/test_images')\n",
    "dataset.idx_to_class = {i:c for c, i in dataset.class_to_idx.items()}\n",
    "loader = DataLoader(dataset, collate_fn=collate_fn, num_workers=workers)"
   ]
  },
  {
   "cell_type": "markdown",
   "metadata": {},
   "source": [
    "#### Perfom MTCNN facial detection\n",
    "\n",
    "Iterate through the DataLoader object and detect faces and associated detection probabilities for each. The `MTCNN` forward method returns images cropped to the detected face, if a face was detected. By default only a single detected face is returned - to have `MTCNN` return all detected faces, set `keep_all=True` when creating the MTCNN object above.\n",
    "\n",
    "To obtain bounding boxes rather than cropped face images, you can instead call the lower-level `mtcnn.detect()` function. See `help(mtcnn.detect)` for details."
   ]
  },
  {
   "cell_type": "code",
   "execution_count": 7,
   "metadata": {},
   "outputs": [
    {
     "name": "stdout",
     "output_type": "stream",
     "text": [
      "Face detected with probability: 0.999983\n",
      "Face detected with probability: 0.999934\n",
      "Face detected with probability: 0.999733\n",
      "Face detected with probability: 0.999880\n",
      "Face detected with probability: 0.999992\n"
     ]
    }
   ],
   "source": [
    "aligned = []\n",
    "names = []\n",
    "for x, y in loader:\n",
    "    x_aligned, prob = mtcnn(x, return_prob=True)\n",
    "    if x_aligned is not None:\n",
    "        print('Face detected with probability: {:8f}'.format(prob))\n",
    "        aligned.append(x_aligned)\n",
    "        names.append(dataset.idx_to_class[y])"
   ]
  },
  {
   "cell_type": "markdown",
   "metadata": {},
   "source": [
    "#### Calculate image embeddings\n",
    "\n",
    "MTCNN will return images of faces all the same size, enabling easy batch processing with the Resnet recognition module. Here, since we only have a few images, we build a single batch and perform inference on it. \n",
    "\n",
    "For real datasets, code should be modified to control batch sizes being passed to the Resnet, particularly if being processed on a GPU. For repeated testing, it is best to separate face detection (using MTCNN) from embedding or classification (using InceptionResnetV1), as calculation of cropped faces or bounding boxes can then be performed a single time and detected faces saved for future use."
   ]
  },
  {
   "cell_type": "code",
   "execution_count": 8,
   "metadata": {},
   "outputs": [
    {
     "data": {
      "text/plain": [
       "tensor([[-0.0064, -0.0262, -0.0182,  ..., -0.0567,  0.0154, -0.0006],\n",
       "        [-0.0213, -0.0222, -0.0141,  ...,  0.0571,  0.0063, -0.0493],\n",
       "        [ 0.0003,  0.0928, -0.0199,  ..., -0.0415,  0.0327,  0.0102],\n",
       "        [-0.0151, -0.0361, -0.0691,  ..., -0.0010,  0.0526,  0.0031],\n",
       "        [ 0.0160, -0.0785,  0.0068,  ..., -0.0013, -0.0796, -0.0432]])"
      ]
     },
     "execution_count": 8,
     "metadata": {},
     "output_type": "execute_result"
    }
   ],
   "source": [
    "aligned = torch.stack(tuple(aligned)).to(device)\n",
    "\n",
    "embeddings = resnet(aligned).detach().cpu()\n",
    "embeddings"
   ]
  },
  {
   "cell_type": "code",
   "execution_count": 9,
   "metadata": {},
   "outputs": [
    {
     "data": {
      "text/plain": [
       "torch.Size([5, 512])"
      ]
     },
     "execution_count": 9,
     "metadata": {},
     "output_type": "execute_result"
    }
   ],
   "source": [
    "embeddings.shape"
   ]
  },
  {
   "cell_type": "markdown",
   "metadata": {},
   "source": [
    "#### Print distance matrix for classes"
   ]
  },
  {
   "cell_type": "code",
   "execution_count": 10,
   "metadata": {},
   "outputs": [
    {
     "name": "stdout",
     "output_type": "stream",
     "text": [
      "                angelina_jolie  bradley_cooper  kate_siegel  paul_rudd  \\\n",
      "angelina_jolie        0.000000        1.447480     0.887728   1.429847   \n",
      "bradley_cooper        1.447480        0.000000     1.313749   1.013447   \n",
      "kate_siegel           0.887728        1.313749     0.000000   1.388377   \n",
      "paul_rudd             1.429847        1.013447     1.388377   0.000000   \n",
      "shea_whigham          1.399074        1.038684     1.379655   1.100503   \n",
      "\n",
      "                shea_whigham  \n",
      "angelina_jolie      1.399074  \n",
      "bradley_cooper      1.038684  \n",
      "kate_siegel         1.379655  \n",
      "paul_rudd           1.100503  \n",
      "shea_whigham        0.000000  \n"
     ]
    }
   ],
   "source": [
    "dists = [[(e1 - e2).norm().item() for e2 in embeddings] for e1 in embeddings]\n",
    "print(pd.DataFrame(dists, columns=names, index=names))"
   ]
  },
  {
   "cell_type": "code",
   "execution_count": 12,
   "metadata": {},
   "outputs": [
    {
     "name": "stdout",
     "output_type": "stream",
     "text": [
      "Requirement already satisfied: requests in /home/ec2-user/anaconda3/envs/pytorch_p36/lib/python3.6/site-packages (2.25.1)\n",
      "Requirement already satisfied: idna<3,>=2.5 in /home/ec2-user/anaconda3/envs/pytorch_p36/lib/python3.6/site-packages (from requests) (2.10)\n",
      "Requirement already satisfied: certifi>=2017.4.17 in /home/ec2-user/anaconda3/envs/pytorch_p36/lib/python3.6/site-packages (from requests) (2020.12.5)\n",
      "Requirement already satisfied: chardet<5,>=3.0.2 in /home/ec2-user/anaconda3/envs/pytorch_p36/lib/python3.6/site-packages (from requests) (3.0.4)\n",
      "Requirement already satisfied: urllib3<1.27,>=1.21.1 in /home/ec2-user/anaconda3/envs/pytorch_p36/lib/python3.6/site-packages (from requests) (1.26.4)\n",
      "Collecting requests-aws4auth\n",
      "  Using cached requests_aws4auth-1.0.1-py2.py3-none-any.whl (29 kB)\n",
      "Requirement already satisfied: requests in /home/ec2-user/anaconda3/envs/pytorch_p36/lib/python3.6/site-packages (from requests-aws4auth) (2.25.1)\n",
      "Requirement already satisfied: chardet<5,>=3.0.2 in /home/ec2-user/anaconda3/envs/pytorch_p36/lib/python3.6/site-packages (from requests->requests-aws4auth) (3.0.4)\n",
      "Requirement already satisfied: certifi>=2017.4.17 in /home/ec2-user/anaconda3/envs/pytorch_p36/lib/python3.6/site-packages (from requests->requests-aws4auth) (2020.12.5)\n",
      "Requirement already satisfied: idna<3,>=2.5 in /home/ec2-user/anaconda3/envs/pytorch_p36/lib/python3.6/site-packages (from requests->requests-aws4auth) (2.10)\n",
      "Requirement already satisfied: urllib3<1.27,>=1.21.1 in /home/ec2-user/anaconda3/envs/pytorch_p36/lib/python3.6/site-packages (from requests->requests-aws4auth) (1.26.4)\n",
      "Installing collected packages: requests-aws4auth\n",
      "Successfully installed requests-aws4auth-1.0.1\n",
      "Collecting Elasticsearch==7.12.1\n",
      "  Using cached elasticsearch-7.12.1-py2.py3-none-any.whl (339 kB)\n",
      "Requirement already satisfied: urllib3<2,>=1.21.1 in /home/ec2-user/anaconda3/envs/pytorch_p36/lib/python3.6/site-packages (from Elasticsearch==7.12.1) (1.26.4)\n",
      "Requirement already satisfied: certifi in /home/ec2-user/anaconda3/envs/pytorch_p36/lib/python3.6/site-packages (from Elasticsearch==7.12.1) (2020.12.5)\n",
      "Installing collected packages: Elasticsearch\n",
      "Successfully installed Elasticsearch-7.12.1\n",
      "Requirement already satisfied: urllib3 in /home/ec2-user/anaconda3/envs/pytorch_p36/lib/python3.6/site-packages (1.26.4)\n"
     ]
    }
   ],
   "source": [
    "!pip install requests \n",
    "!pip install requests-aws4auth\n",
    "!pip install Elasticsearch==7.12.1\n",
    "!pip install urllib3"
   ]
  },
  {
   "cell_type": "code",
   "execution_count": 13,
   "metadata": {},
   "outputs": [],
   "source": [
    "from elasticsearch import Elasticsearch, RequestsHttpConnection\n",
    "from requests_aws4auth import AWS4Auth\n",
    "import boto3\n",
    "\n",
    "host = 'search-image-retrieval-bnppfgqwzoeu5dugmryflqaboa.us-west-2.es.amazonaws.com' # For example, my-test-domain.us-east-1.es.amazonaws.com\n",
    "region = 'us-west-2' # e.g. us-west-1\n",
    "\n",
    "service = 'es'\n",
    "credentials = boto3.Session().get_credentials()\n",
    "\n",
    "\n",
    "\n",
    "es = Elasticsearch(\n",
    "    hosts = [{'host': host, 'port': 443}],\n",
    "    http_auth = ('root','Peggy@@0218'),\n",
    "    use_ssl = True,\n",
    "    verify_certs = True,\n",
    "    connection_class = RequestsHttpConnection\n",
    ")"
   ]
  },
  {
   "cell_type": "code",
   "execution_count": 14,
   "metadata": {},
   "outputs": [
    {
     "data": {
      "text/plain": [
       "{'acknowledged': True, 'shards_acknowledged': True, 'index': 'faces'}"
      ]
     },
     "execution_count": 14,
     "metadata": {},
     "output_type": "execute_result"
    }
   ],
   "source": [
    "knn_index = {\n",
    "    \"settings\": {\n",
    "        \"index.knn\": True\n",
    "    },\n",
    "    \"mappings\": {\n",
    "        \"properties\": {\n",
    "            \"face_vector\": {\n",
    "                \"type\": \"knn_vector\",\n",
    "                \"dimension\": 512\n",
    "            }\n",
    "        }\n",
    "    }\n",
    "}\n",
    "\n",
    "es.indices.create(index=\"faces\",body=knn_index,ignore=400)"
   ]
  },
  {
   "cell_type": "code",
   "execution_count": 19,
   "metadata": {},
   "outputs": [],
   "source": [
    "def es_import(vector, celebid, id):\n",
    "    es.index(index='faces',\n",
    "             id=id, \n",
    "             body={\"face_vector\": vector, \n",
    "                   \"celebid\":celebid})\n",
    "        \n",
    "# es_import([0 for i in range(0, 256)], \"q1\")"
   ]
  },
  {
   "cell_type": "code",
   "execution_count": 20,
   "metadata": {},
   "outputs": [],
   "source": [
    "for idx, (name, vector) in enumerate(zip(names, embeddings)): \n",
    "    es_import(vector.tolist(), name, idx)\n",
    "    "
   ]
  },
  {
   "cell_type": "code",
   "execution_count": 22,
   "metadata": {},
   "outputs": [],
   "source": [
    "def post(vector):\n",
    "    res = es.search(index=\"faces\",\n",
    "                    body={\n",
    "                        \"size\": 5,\n",
    "                            \"_source\": {\n",
    "                                \"exclude\": [\"face_vector\"]\n",
    "                            },\n",
    "                            \"min_score\": 0.3,\n",
    "                            \"query\": {\n",
    "                                \"knn\": {\n",
    "                                    \"face_vector\": {\n",
    "                                        \"vector\": vector,\n",
    "                                        \"k\": 5\n",
    "                                    }\n",
    "                                }\n",
    "                            }\n",
    "                    })\n",
    "    return res\n",
    "\n"
   ]
  },
  {
   "cell_type": "code",
   "execution_count": 23,
   "metadata": {},
   "outputs": [
    {
     "name": "stdout",
     "output_type": "stream",
     "text": [
      "angelina_jolie\n",
      "{'took': 223, 'timed_out': False, '_shards': {'total': 5, 'successful': 5, 'skipped': 0, 'failed': 0}, 'hits': {'total': {'value': 6, 'relation': 'eq'}, 'max_score': 1.0, 'hits': [{'_index': 'faces', '_type': '_doc', '_id': '0', '_score': 1.0, '_source': {'celebid': 'angelina_jolie'}}, {'_index': 'faces', '_type': '_doc', '_id': '2', '_score': 0.55926514, '_source': {'celebid': 'kate_siegel'}}, {'_index': 'faces', '_type': '_doc', '_id': '4', '_score': 0.3381341, '_source': {'celebid': 'shea_whigham'}}, {'_index': 'faces', '_type': '_doc', '_id': '<built-in function id>', '_score': 0.3381341, '_source': {'celebid': 'shea_whigham'}}, {'_index': 'faces', '_type': '_doc', '_id': '3', '_score': 0.3284652, '_source': {'celebid': 'paul_rudd'}}]}}\n",
      "bradley_cooper\n",
      "{'took': 991, 'timed_out': False, '_shards': {'total': 5, 'successful': 5, 'skipped': 0, 'failed': 0}, 'hits': {'total': {'value': 5, 'relation': 'eq'}, 'max_score': 1.0, 'hits': [{'_index': 'faces', '_type': '_doc', '_id': '1', '_score': 1.0, '_source': {'celebid': 'bradley_cooper'}}, {'_index': 'faces', '_type': '_doc', '_id': '3', '_score': 0.49332154, '_source': {'celebid': 'paul_rudd'}}, {'_index': 'faces', '_type': '_doc', '_id': '4', '_score': 0.4810318, '_source': {'celebid': 'shea_whigham'}}, {'_index': 'faces', '_type': '_doc', '_id': '<built-in function id>', '_score': 0.4810318, '_source': {'celebid': 'shea_whigham'}}, {'_index': 'faces', '_type': '_doc', '_id': '2', '_score': 0.3668465, '_source': {'celebid': 'kate_siegel'}}]}}\n",
      "kate_siegel\n",
      "{'took': 986, 'timed_out': False, '_shards': {'total': 5, 'successful': 5, 'skipped': 0, 'failed': 0}, 'hits': {'total': {'value': 6, 'relation': 'eq'}, 'max_score': 1.0, 'hits': [{'_index': 'faces', '_type': '_doc', '_id': '2', '_score': 1.0, '_source': {'celebid': 'kate_siegel'}}, {'_index': 'faces', '_type': '_doc', '_id': '0', '_score': 0.55926514, '_source': {'celebid': 'angelina_jolie'}}, {'_index': 'faces', '_type': '_doc', '_id': '1', '_score': 0.3668465, '_source': {'celebid': 'bradley_cooper'}}, {'_index': 'faces', '_type': '_doc', '_id': '4', '_score': 0.34441823, '_source': {'celebid': 'shea_whigham'}}, {'_index': 'faces', '_type': '_doc', '_id': '<built-in function id>', '_score': 0.34441823, '_source': {'celebid': 'shea_whigham'}}]}}\n",
      "paul_rudd\n",
      "{'took': 13, 'timed_out': False, '_shards': {'total': 5, 'successful': 5, 'skipped': 0, 'failed': 0}, 'hits': {'total': {'value': 5, 'relation': 'eq'}, 'max_score': 1.0, 'hits': [{'_index': 'faces', '_type': '_doc', '_id': '3', '_score': 1.0, '_source': {'celebid': 'paul_rudd'}}, {'_index': 'faces', '_type': '_doc', '_id': '1', '_score': 0.49332154, '_source': {'celebid': 'bradley_cooper'}}, {'_index': 'faces', '_type': '_doc', '_id': '4', '_score': 0.45226225, '_source': {'celebid': 'shea_whigham'}}, {'_index': 'faces', '_type': '_doc', '_id': '<built-in function id>', '_score': 0.45226225, '_source': {'celebid': 'shea_whigham'}}, {'_index': 'faces', '_type': '_doc', '_id': '2', '_score': 0.34157783, '_source': {'celebid': 'kate_siegel'}}]}}\n",
      "shea_whigham\n",
      "{'took': 11, 'timed_out': False, '_shards': {'total': 5, 'successful': 5, 'skipped': 0, 'failed': 0}, 'hits': {'total': {'value': 5, 'relation': 'eq'}, 'max_score': 1.0, 'hits': [{'_index': 'faces', '_type': '_doc', '_id': '4', '_score': 1.0, '_source': {'celebid': 'shea_whigham'}}, {'_index': 'faces', '_type': '_doc', '_id': '<built-in function id>', '_score': 1.0, '_source': {'celebid': 'shea_whigham'}}, {'_index': 'faces', '_type': '_doc', '_id': '1', '_score': 0.4810318, '_source': {'celebid': 'bradley_cooper'}}, {'_index': 'faces', '_type': '_doc', '_id': '3', '_score': 0.45226225, '_source': {'celebid': 'paul_rudd'}}, {'_index': 'faces', '_type': '_doc', '_id': '2', '_score': 0.34441823, '_source': {'celebid': 'kate_siegel'}}]}}\n"
     ]
    }
   ],
   "source": [
    "for name, vector in zip(names, embeddings): \n",
    "    print(name)\n",
    "    result = post(vector.tolist())\n",
    "    print(result)"
   ]
  },
  {
   "cell_type": "code",
   "execution_count": null,
   "metadata": {},
   "outputs": [],
   "source": []
  }
 ],
 "metadata": {
  "kernelspec": {
   "display_name": "conda_pytorch_p36",
   "language": "python",
   "name": "conda_pytorch_p36"
  },
  "language_info": {
   "codemirror_mode": {
    "name": "ipython",
    "version": 3
   },
   "file_extension": ".py",
   "mimetype": "text/x-python",
   "name": "python",
   "nbconvert_exporter": "python",
   "pygments_lexer": "ipython3",
   "version": "3.6.13"
  }
 },
 "nbformat": 4,
 "nbformat_minor": 2
}
