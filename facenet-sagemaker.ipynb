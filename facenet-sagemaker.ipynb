{
 "cells": [
  {
   "cell_type": "code",
   "execution_count": null,
   "id": "59bbda54",
   "metadata": {},
   "outputs": [],
   "source": [
    "import boto3 \n",
    "\n",
    "my_session = boto3.session.Session()\n",
    "my_region = my_session.region_name\n",
    "client = boto3.client(\"sts\")\n",
    "account_id = client.get_caller_identity()[\"Account\"]\n",
    "algorithm_name = \"facenet\""
   ]
  },
  {
   "cell_type": "code",
   "execution_count": null,
   "id": "97016003",
   "metadata": {},
   "outputs": [],
   "source": [
    "#remove ipython from requirement.txt\n",
    "!./build_and_push.sh"
   ]
  },
  {
   "cell_type": "code",
   "execution_count": null,
   "id": "6303ac7a",
   "metadata": {},
   "outputs": [],
   "source": [
    "!cat Dockerfile"
   ]
  },
  {
   "cell_type": "code",
   "execution_count": null,
   "id": "81aa551b",
   "metadata": {},
   "outputs": [],
   "source": [
    "!cat build_and_push.sh"
   ]
  },
  {
   "cell_type": "code",
   "execution_count": null,
   "id": "cb149d33",
   "metadata": {},
   "outputs": [],
   "source": [
    "image_uri=f\"{account_id}.dkr.ecr.{my_region}.amazonaws.com/{algorithm_name}:latest\"\n",
    "image_uri"
   ]
  },
  {
   "cell_type": "code",
   "execution_count": null,
   "id": "80af2766",
   "metadata": {},
   "outputs": [],
   "source": [
    "import sagemaker \n",
    "session = sagemaker.session.Session()\n",
    "bucket = session.default_bucket()"
   ]
  },
  {
   "cell_type": "code",
   "execution_count": null,
   "id": "9958f780",
   "metadata": {},
   "outputs": [],
   "source": [
    "from sagemaker import get_execution_role\n",
    "\n",
    "role = get_execution_role()\n",
    "print(role)\n",
    "\n",
    "s3_path = f\"s3://{bucket}/data/faces\"\n",
    "s3_path"
   ]
  },
  {
   "cell_type": "code",
   "execution_count": null,
   "id": "fefc4023",
   "metadata": {},
   "outputs": [],
   "source": [
    "# s3://facenet-demo-yianc \n",
    "# input.zip\n",
    "!mkdir input \n",
    "!mkdir input/data\n",
    "!mv examples/lfw input/data/faces\n",
    "\n",
    "\n",
    "!aws s3 cp --recursive ./input/data/faces/ $s3_path"
   ]
  },
  {
   "cell_type": "markdown",
   "id": "c4e238c1",
   "metadata": {},
   "source": [
    "### can train in docker container manually \n",
    "\n",
    "* start container in interactive mode\n",
    "```\n",
    "docker run -it -v $PWD:/opt/ml --entrypoint '' $image_uri bash \n",
    "docker run -it -v $PWD:/opt/ml $image_uri  \n",
    "```"
   ]
  },
  {
   "cell_type": "code",
   "execution_count": null,
   "id": "c92909d1",
   "metadata": {},
   "outputs": [],
   "source": [
    "from datetime import datetime\n",
    "now = datetime.now()\n",
    "timestamp = datetime.timestamp(now)\n",
    "job_name = \"facenet-{}\".format(str(int(timestamp))) \n",
    "job_name"
   ]
  },
  {
   "cell_type": "code",
   "execution_count": null,
   "id": "54509775",
   "metadata": {},
   "outputs": [],
   "source": [
    "estimator = sagemaker.estimator.Estimator( \n",
    "                        role=role,\n",
    "                        image_uri=image_uri,\n",
    "                        instance_count=1,\n",
    "                        instance_type='ml.p3.8xlarge',\n",
    "                        sagemaker_session=session,\n",
    "                        volume_size=100, \n",
    "                        debugger_hook_config=False\n",
    "                   )"
   ]
  },
  {
   "cell_type": "code",
   "execution_count": null,
   "id": "fbf8475e",
   "metadata": {},
   "outputs": [],
   "source": [
    "estimator.fit(inputs={\"faces\":s3_path}, job_name=job_name)"
   ]
  },
  {
   "cell_type": "code",
   "execution_count": null,
   "id": "e9d7f368",
   "metadata": {},
   "outputs": [],
   "source": [
    "model_path = estimator.model_data"
   ]
  },
  {
   "cell_type": "code",
   "execution_count": null,
   "id": "a8bf932a",
   "metadata": {},
   "outputs": [],
   "source": [
    "!aws s3 cp $model_path . \n",
    "!tar -xf model.tar.gz\n",
    "!ls -al fine_tuned_model\n"
   ]
  },
  {
   "cell_type": "code",
   "execution_count": null,
   "id": "bfafabf5",
   "metadata": {},
   "outputs": [],
   "source": []
  }
 ],
 "metadata": {
  "kernelspec": {
   "display_name": "conda_pytorch_latest_p36",
   "language": "python",
   "name": "conda_pytorch_latest_p36"
  },
  "language_info": {
   "codemirror_mode": {
    "name": "ipython",
    "version": 3
   },
   "file_extension": ".py",
   "mimetype": "text/x-python",
   "name": "python",
   "nbconvert_exporter": "python",
   "pygments_lexer": "ipython3",
   "version": "3.6.13"
  }
 },
 "nbformat": 4,
 "nbformat_minor": 5
}
